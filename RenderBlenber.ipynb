{
  "nbformat": 4,
  "nbformat_minor": 0,
  "metadata": {
    "colab": {
      "name": "RenderBlenber.ipynb",
      "private_outputs": true,
      "provenance": [],
      "collapsed_sections": [],
      "mount_file_id": "1Eay1MIM7UgJX_nqeEVkjl2kFxdnPrN7u",
      "authorship_tag": "ABX9TyOt5i3inflhMwQdzndgPL1V",
      "include_colab_link": true
    },
    "kernelspec": {
      "name": "python3",
      "display_name": "Python 3"
    },
    "language_info": {
      "name": "python"
    },
    "accelerator": "GPU"
  },
  "cells": [
    {
      "cell_type": "markdown",
      "metadata": {
        "id": "view-in-github",
        "colab_type": "text"
      },
      "source": [
        "<a href=\"https://colab.research.google.com/github/camilomateo/googlecolab/blob/main/RenderBlenber.ipynb\" target=\"_parent\"><img src=\"https://colab.research.google.com/assets/colab-badge.svg\" alt=\"Open In Colab\"/></a>"
      ]
    },
    {
      "cell_type": "markdown",
      "source": [
        "# Renderizar con Blender en los servidores de Google con Colab\n",
        "\n",
        "https://zao3d.com/tutorial/renderizar-con-blender-en-los-servidores-de-google-con-colab/"
      ],
      "metadata": {
        "id": "axPR2B0B767b"
      }
    },
    {
      "cell_type": "code",
      "execution_count": null,
      "metadata": {
        "id": "XqlZ86rSm-6t"
      },
      "outputs": [],
      "source": [
        "# Chequear qué GPU estamos usando (Teslta P4 )\n",
        "# ============================================\n",
        "! nvidia-smi"
      ]
    },
    {
      "cell_type": "code",
      "source": [
        "# Conocer la memoria disponible\n",
        "# =============================\n",
        "import psutil\n",
        "def get_size(bytes, suffix='B'):\n",
        "    factor = 1024\n",
        "    for unit in [\"\", \"K\", \"M\", \"G\", \"T\", \"P\"]:\n",
        "        if bytes < factor:\n",
        "            return f\"{bytes:.2f}{unit}{suffix}\"\n",
        "        bytes /= factor\n",
        "print(\"=\"*40, \"Memory Information\", \"=\"*40)\n",
        "svmem = psutil.virtual_memory()\n",
        "print(f\"Total: {get_size(svmem.total)}\") ; print(f\"Available : {get_size(svmem.available)}\")\n",
        "print(f\"Used: {get_size(svmem.used)}\") ; print(f\"Porcentage : {svmem.percent}%\")"
      ],
      "metadata": {
        "id": "84RDWKr_n9lj"
      },
      "execution_count": null,
      "outputs": []
    },
    {
      "cell_type": "code",
      "source": [
        "# Connect Google Drive to Google Colab\n",
        "# =====================================\n",
        "from google.colab import drive\n",
        "drive.mount('/content/drive', force_remount=True)"
      ],
      "metadata": {
        "id": "RplFMelGtuXy"
      },
      "execution_count": null,
      "outputs": []
    },
    {
      "cell_type": "code",
      "source": [
        "# Download Blender from Blender Repository. \n",
        "# Other Versions are here: https://download.blender.org/release/\n",
        "#=====================================\n",
        "#!wget https://download.blender.org/release/Blender3.0/blender-3.0.1-linux-x64.tar.xz\n",
        "\n"
      ],
      "metadata": {
        "id": "6Kl7_C6du4hr"
      },
      "execution_count": null,
      "outputs": []
    },
    {
      "cell_type": "code",
      "source": [
        "# Usar estos comandos para mover el archivo comprimido de Blender a Google Drive y después moverlo de nuevo a Google Colab para que no tengas que descargar Blender cada vez.\n",
        " \n",
        "# Copiar el archivo comprimido de Blender a Google Drive\n",
        "# =======================================================\n",
        "#!cp /content/blender-3.0.1-linux-x64.tar.xz /content/drive/MyDrive/Colab-Blender/blender-3.0.1-linux-x64.tar.xz\n",
        " \n",
        "# Copiar el archivo comprimido de Blender desde Google Drive\n",
        "# ==========================================================\n",
        "#!cp /content/drive/MyDrive/Colab-Blender/blender-3.0.1-linux-x64.tar.xz /content/blender-3.0.1-linux-x64.tar.xz\n"
      ],
      "metadata": {
        "id": "tEI9S1ou9tcs"
      },
      "execution_count": null,
      "outputs": []
    },
    {
      "cell_type": "code",
      "source": [
        "# Unzip Blender \n",
        "# =====================================\n",
        "#!tar xf blender-3.0.1-linux-x64.tar.xz"
      ],
      "metadata": {
        "id": "_Yu4DuUEwDh6"
      },
      "execution_count": null,
      "outputs": []
    },
    {
      "cell_type": "code",
      "source": [
        "# Deletes the Default libtcmalloc-minimal4 version and installs the Ubuntu default version\n",
        "# ========================================================================================\n",
        "import os\n",
        "os.environ[\"LD_PRELOAD\"] = \"\"\n",
        " \n",
        "# Deletes wrong Version of libtcmalloc-minimal4\n",
        "!apt remove libtcmalloc-minimal4\n",
        "#Installs correct version of libtcmalloc-minimal4\n",
        "!apt install libtcmalloc-minimal4\n",
        " \n",
        "#Adds this library to the user environment\n",
        "os.environ[\"LD_PRELOAD\"] = \"/usr/lib/x86_64-linux-gnu/libtcmalloc_minimal.so.4.3.0\""
      ],
      "metadata": {
        "id": "6L045MnawzkK"
      },
      "execution_count": null,
      "outputs": []
    },
    {
      "cell_type": "code",
      "source": [
        "# Path of Blender File to be Rendered \n",
        "# ===================================\n",
        "#filename = '/content/drive/MyDrive/Colab-Render/textura_03.blend'\n",
        "#out = '/content/drive/MyDrive/Colad-Out/textura_03_####'\n",
        "filename = '/content/drive/MyDrive/Colab-Render/cabeza_iluminación_1.blend'\n",
        "out = '/content/drive/MyDrive/Colad-Out/cabeza_iluminación_1_####'\n",
        "format = 'PNG'\n",
        "frame_start = 1\n",
        "frame_end = 50"
      ],
      "metadata": {
        "id": "k9FHD8iwywpb"
      },
      "execution_count": null,
      "outputs": []
    },
    {
      "cell_type": "code",
      "source": [
        "# Línea de comandos para renderizar con Blender\n",
        "# =============================================\n",
        "# -P <python> : Ejecutar un script Python\n",
        "# -b          : background. Ejecutar en segundo plano\n",
        "# -noaudio    : Forzar el sistema de sonido a None\n",
        "# -E <engine> : Motor de render (CYCLES/EEVEE)\n",
        "# --debug-all : Habilitar todos los mensajes de depuración\n",
        "# -o  <out>   : Ruta de render y el nombre de archivo. Se utilizar // en el inicio de la ruta para especificar una ruta relativa\n",
        "# -s <fotog>  : Establece el inicio al fotograma \n",
        "# -e <fotog>  : Establece el final al fotograma\n",
        "# -a          : Renderiza fotogramas de inicio a fin (inclusivo)\n",
        "# -F <formato>: Establece el formato de render (TGA, RAWTGA, JPEG, IRIS, IRIZ, AVIRAW, AVIJPEG, PNG, BMP)  \n",
        "# --cycles-device CYCUDA / OPTIX\n",
        "\n",
        "!sudo ./blender-3.0.1-linux-x64/blender -P 'gpu.py' -b $filename -noaudio -E 'CYCLES' --debug-all -o $out -s $frame_start -e 1 -a 1 $format -- --cycles-device CUDA\n",
        "# !sudo ./blender-3.0.1-linux-x64/blender -b $filename -noaudio -E 'CYCLES' -o $out -s $frame_start -e $frame_end -a -- --cycles-device CUDA\n"
      ],
      "metadata": {
        "id": "XwFwdmJEzQJS"
      },
      "execution_count": null,
      "outputs": []
    },
    {
      "cell_type": "code",
      "source": [
        ""
      ],
      "metadata": {
        "id": "UM69_lEs2HHy"
      },
      "execution_count": null,
      "outputs": []
    }
  ]
}